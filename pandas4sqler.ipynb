{
 "cells": [
  {
   "cell_type": "code",
   "execution_count": null,
   "metadata": {},
   "outputs": [],
   "source": [
    "import sqlite3\n",
    "\n",
    "import pandas as pd\n",
    "import pymysql"
   ]
  },
  {
   "cell_type": "code",
   "execution_count": null,
   "metadata": {},
   "outputs": [],
   "source": [
    "conn = sqlite3.connect('sakila.db')\n",
    "film_df = pd.read_sql(\"select * from film;\", conn)\n",
    "film_actor_df = pd.read_sql(\"select * from film_actor;\", conn)\n",
    "actor_df = pd.read_sql(\"select * from actor;\", conn)\n"
   ]
  },
  {
   "cell_type": "markdown",
   "metadata": {},
   "source": [
    "# desc"
   ]
  },
  {
   "cell_type": "code",
   "execution_count": null,
   "metadata": {},
   "outputs": [],
   "source": [
    "\"\"\"desc film\"\"\"\n",
    "film_df.info()"
   ]
  },
  {
   "cell_type": "code",
   "execution_count": null,
   "metadata": {},
   "outputs": [],
   "source": [
    "\"\"\"\n",
    "select * \n",
    "from film \n",
    "where 1 = 0\n",
    "\"\"\"\n",
    "film_df.columns.values"
   ]
  },
  {
   "cell_type": "code",
   "execution_count": null,
   "metadata": {},
   "outputs": [],
   "source": [
    "film_df.shape"
   ]
  },
  {
   "cell_type": "markdown",
   "metadata": {
    "collapsed": true
   },
   "source": [
    "# select "
   ]
  },
  {
   "cell_type": "code",
   "execution_count": null,
   "metadata": {},
   "outputs": [],
   "source": [
    "\"\"\"\n",
    "select * \n",
    "from film;\n",
    "\"\"\"\n",
    "film_df"
   ]
  },
  {
   "cell_type": "code",
   "execution_count": null,
   "metadata": {},
   "outputs": [],
   "source": [
    "\"\"\"\n",
    "select * \n",
    "from film \n",
    "limit 3;\n",
    "\"\"\"\n",
    "film_df.head(3) # we can also transepose the result by add .T, film_df.head(3).T"
   ]
  },
  {
   "cell_type": "code",
   "execution_count": null,
   "metadata": {},
   "outputs": [],
   "source": [
    "\"\"\"\n",
    "select film_id, title, description\n",
    "from film\n",
    "limit 10, 5;\n",
    "\"\"\"\n",
    "film_df[[\"film_id\", \"title\", \"description\"]][10:10 + 5] # in sql 10 is offset, 5 is limit, so [10:10 + 5] in pandas"
   ]
  },
  {
   "cell_type": "code",
   "execution_count": null,
   "metadata": {},
   "outputs": [],
   "source": [
    "\"\"\"\n",
    "select distinct rating\n",
    "from film;\n",
    "\"\"\"\n",
    "film_df['rating'].unique()"
   ]
  },
  {
   "cell_type": "markdown",
   "metadata": {},
   "source": [
    "# count"
   ]
  },
  {
   "cell_type": "code",
   "execution_count": null,
   "metadata": {},
   "outputs": [],
   "source": [
    "\"\"\"\n",
    "select count(*)\n",
    "from film;\n",
    "\"\"\"\n",
    "\n",
    "len(film_df)"
   ]
  },
  {
   "cell_type": "code",
   "execution_count": null,
   "metadata": {},
   "outputs": [],
   "source": [
    "\"\"\"\n",
    "select count(distinct rating)\n",
    "from film;\n",
    "\"\"\"\n",
    "\n",
    "len(film_df['rating'].unique())"
   ]
  },
  {
   "cell_type": "code",
   "execution_count": null,
   "metadata": {},
   "outputs": [],
   "source": [
    "\"\"\"\n",
    "\"\"\""
   ]
  },
  {
   "cell_type": "markdown",
   "metadata": {},
   "source": [
    "# where"
   ]
  },
  {
   "cell_type": "code",
   "execution_count": null,
   "metadata": {},
   "outputs": [],
   "source": [
    "\"\"\"\n",
    "select film_id, title, description\n",
    "from film\n",
    "where film_id = 10;\n",
    "\"\"\"\n",
    "\n",
    "film_df[film_df[\"film_id\"] == 10][[\"film_id\", \"title\", \"description\"]]"
   ]
  },
  {
   "cell_type": "code",
   "execution_count": null,
   "metadata": {},
   "outputs": [],
   "source": [
    "\"\"\"\n",
    "select film_id, title, description\n",
    "from film\n",
    "where rental_rate > 2\n",
    "      and length < 120;\n",
    "\"\"\"\n",
    "\n",
    "film_df[(film_df[\"rental_rate\"] > 2) & (film_df[\"length\"] < 120)][[\"film_id\", \"title\", \"description\"]]"
   ]
  },
  {
   "cell_type": "markdown",
   "metadata": {},
   "source": [
    "# in"
   ]
  },
  {
   "cell_type": "code",
   "execution_count": null,
   "metadata": {},
   "outputs": [],
   "source": [
    "\"\"\"\n",
    "SELECT  * \n",
    "FROM sakila.film\n",
    "where rental_duration in (3,6,7);\n",
    "\"\"\"\n",
    "\n",
    "film_df[film_df.rental_duration.isin([3,6,7])]"
   ]
  },
  {
   "cell_type": "code",
   "execution_count": null,
   "metadata": {},
   "outputs": [],
   "source": [
    "\"\"\"\n",
    "SELECT  * \n",
    "FROM sakila.film\n",
    "where rental_duration not in (3,6,7);\n",
    "\"\"\"\n",
    "\n",
    "film_df[~film_df.rental_duration.isin([3,6,7])].head()"
   ]
  },
  {
   "cell_type": "markdown",
   "metadata": {},
   "source": [
    "# NULL"
   ]
  },
  {
   "cell_type": "code",
   "execution_count": null,
   "metadata": {},
   "outputs": [],
   "source": [
    "\"\"\"\n",
    "SELECT * \n",
    "FROM sakila.film\n",
    "where original_language_id is null;\n",
    "\"\"\"\n",
    "film_df[film_df.original_language_id.isnull()].head()"
   ]
  },
  {
   "cell_type": "markdown",
   "metadata": {},
   "source": [
    "# fill NULL\n",
    "补全NULL值的操作pandas比sql方便"
   ]
  },
  {
   "cell_type": "code",
   "execution_count": null,
   "metadata": {},
   "outputs": [],
   "source": [
    "\"\"\"\n",
    "SELECT (case when original_language_id is null then 999 else original_language_id end ) as original_language_id\n",
    "FROM sakila.film\n",
    "where original_language_id is null;\n",
    "\"\"\"\n",
    "\n",
    "film_df.original_language_id.fillna(999,inplace=True)\n",
    "film_df.head()"
   ]
  },
  {
   "cell_type": "markdown",
   "metadata": {},
   "source": [
    "# order by"
   ]
  },
  {
   "cell_type": "code",
   "execution_count": null,
   "metadata": {},
   "outputs": [],
   "source": [
    "\"\"\"\n",
    "select rental_rate, film_id, title, description\n",
    "from film\n",
    "order by rental_rate\n",
    "\"\"\"\n",
    " \n",
    "film_df.sort_values(['rental_rate'])[[\"rental_rate\", \"film_id\", \"title\", \"description\"]]  # default asc, not inplace"
   ]
  },
  {
   "cell_type": "code",
   "execution_count": null,
   "metadata": {},
   "outputs": [],
   "source": [
    "\"\"\"\n",
    "select rental_rate, film_id, title, description\n",
    "from film\n",
    "order by rental_rate desc\n",
    "\"\"\"\n",
    " \n",
    "film_df.sort_values(['rental_rate'], ascending=0)[[\"rental_rate\", \"film_id\", \"title\", \"description\"]]  # desc, not inplace"
   ]
  },
  {
   "cell_type": "markdown",
   "metadata": {},
   "source": [
    "# group by"
   ]
  },
  {
   "cell_type": "code",
   "execution_count": null,
   "metadata": {},
   "outputs": [],
   "source": [
    "\"\"\"\n",
    "select rating, count(*)\n",
    "from film\n",
    "group by rating\n",
    "\"\"\"\n",
    "\n",
    "film_df.rating.value_counts()"
   ]
  },
  {
   "cell_type": "code",
   "execution_count": null,
   "metadata": {},
   "outputs": [],
   "source": [
    "\"\"\"\n",
    "select release_year, rating, count(*)\n",
    "from film\n",
    "group by release_year, rating\n",
    "\"\"\"\n",
    "\n",
    "film_df.groupby([\"release_year\", \"rating\"]).size()  # the result type is series, we can trans it to Dataframe by reset_index"
   ]
  },
  {
   "cell_type": "code",
   "execution_count": null,
   "metadata": {},
   "outputs": [],
   "source": [
    "\"\"\"\n",
    "select release_year, rating, count(*) as counts\n",
    "from film\n",
    "group by release_year, rating\n",
    "\"\"\"\n",
    "\n",
    "film_df.groupby([\"release_year\", \"rating\"]).size().reset_index(name=\"counts\")  # the result type is Dataframe and rename the column"
   ]
  },
  {
   "cell_type": "code",
   "execution_count": null,
   "metadata": {},
   "outputs": [],
   "source": [
    "\"\"\"\n",
    "select  rating , count(distinct rental_duration)  as rental_duration_type_count\n",
    "from  film\n",
    "group by rating;\n",
    "\"\"\"\n",
    "\n",
    "film_df.groupby('rating').rental_duration.nunique().reset_index(name=\"rental_duration_type_count\")"
   ]
  },
  {
   "cell_type": "code",
   "execution_count": null,
   "metadata": {},
   "outputs": [],
   "source": [
    "\"\"\"\n",
    "select * \n",
    "from film\n",
    "where special_features in (\n",
    "\tselect special_features\n",
    "\tfrom film\n",
    "\tgroup by special_features\n",
    "\thaving COUNT(*) > 78)\n",
    "\"\"\"\n",
    "\n",
    "film_df.groupby('special_features').filter(lambda x: len(x) > 78)"
   ]
  },
  {
   "cell_type": "code",
   "execution_count": null,
   "metadata": {},
   "outputs": [],
   "source": [
    "\"\"\"\n",
    "select rating, count(distinct length) as length_distinct_count, avg(length) as length_mean, avg(rental_rate) as rental_rate_mean\n",
    "from film\n",
    "group by rating;\n",
    "\"\"\""
   ]
  },
  {
   "cell_type": "markdown",
   "metadata": {},
   "source": [
    "## [DEPRECATED] Dictionary groupby format\n",
    "使用一种叫Dictionary groupby format的方式，然后droplevel(0)，最后reset_index"
   ]
  },
  {
   "cell_type": "code",
   "execution_count": null,
   "metadata": {},
   "outputs": [],
   "source": [
    "new_df = film_df.groupby(\"rating\").agg({\"length\": {\"length_distinct_count\": lambda x: x.nunique(), \n",
    "                                                   \"length_mean\": \"mean\"},\n",
    "                                        \"rental_rate\": {\"rental_rate_mean\": \"mean\"}})\n",
    "new_df"
   ]
  },
  {
   "cell_type": "code",
   "execution_count": null,
   "metadata": {},
   "outputs": [],
   "source": [
    "new_df.columns = new_df.columns.droplevel(0)\n",
    "new_df"
   ]
  },
  {
   "cell_type": "code",
   "execution_count": null,
   "metadata": {},
   "outputs": [],
   "source": [
    "new_df.reset_index()"
   ]
  },
  {
   "cell_type": "markdown",
   "metadata": {},
   "source": [
    "## Use 'named' functions instead of lambda's:\n",
    "但是上面用嵌套字典的来重命名计算的字段的方式已经[DEPRECATED]了 (>=0.20.1),推荐的方式是用函数代替匿名函数"
   ]
  },
  {
   "cell_type": "code",
   "execution_count": null,
   "metadata": {},
   "outputs": [],
   "source": [
    "def length_distinct_count(group):\n",
    "    return group.nunique()\n",
    "    \n",
    "def length_mean(group):\n",
    "    return group.mean()\n",
    "    \n",
    "def rental_rate_mean(group):\n",
    "    return group.mean()\n",
    "    \n",
    "new_df = film_df.groupby(\"rating\").agg({\"length\": [length_distinct_count, length_mean],\n",
    "                                        \"rental_rate\": rental_rate_mean})\n",
    "new_df\n",
    "\n",
    "# 后面的做法同上"
   ]
  },
  {
   "cell_type": "markdown",
   "metadata": {},
   "source": [
    "# group_concat\n",
    "oralce: wm_concat*"
   ]
  },
  {
   "cell_type": "code",
   "execution_count": null,
   "metadata": {},
   "outputs": [],
   "source": [
    "\"\"\"\n",
    "SELECT actor_id, group_concat(film_id order by film_id separator ',')  as film_ids\n",
    "FROM sakila.film_actor\n",
    "group by actor_id;\n",
    "\"\"\"\n",
    "\n",
    "film_actor_df['film_id_str'] = film_actor_df['film_id'].map(str)\n",
    "film_actor_df.groupby('actor_id')['film_id_str'].apply(lambda x: ','.join(x)).reset_index(name=\"film_ids\").head()"
   ]
  },
  {
   "cell_type": "code",
   "execution_count": null,
   "metadata": {},
   "outputs": [],
   "source": []
  }
 ],
 "metadata": {
  "anaconda-cloud": {},
  "kernelspec": {
   "display_name": "Python 3",
   "language": "python",
   "name": "python3"
  },
  "language_info": {
   "codemirror_mode": {
    "name": "ipython",
    "version": 3
   },
   "file_extension": ".py",
   "mimetype": "text/x-python",
   "name": "python",
   "nbconvert_exporter": "python",
   "pygments_lexer": "ipython3",
   "version": "3.6.5"
  }
 },
 "nbformat": 4,
 "nbformat_minor": 1
}
